{
 "cells": [
  {
   "cell_type": "markdown",
   "metadata": {},
   "source": [
    "# Linear model overfitting\n",
    "* This simple notebook demonstrates how to overfit a linear regression\n",
    "* It really isn't that hard\n",
    "* Also, it shows basic problem for linear regresssion in the \"big data\" world\n",
    "* It then tries to fix this using Ridge and Lasso"
   ]
  },
  {
   "cell_type": "code",
   "execution_count": 76,
   "metadata": {},
   "outputs": [],
   "source": [
    "# Load helpers\n",
    "# Will try to just load what I need on this\n",
    "%matplotlib inline\n",
    "import numpy as np\n",
    "import matplotlib as mpl\n",
    "import matplotlib.pyplot as plt\n",
    "from sklearn.model_selection import train_test_split\n",
    "from sklearn.linear_model import LinearRegression\n",
    "from sklearn.linear_model import Ridge\n",
    "from sklearn.linear_model import Lasso"
   ]
  },
  {
   "cell_type": "code",
   "execution_count": 77,
   "metadata": {},
   "outputs": [],
   "source": [
    "# Function to generate linear data experiments\n",
    "def genLinData(N,M,noise):\n",
    "    # y = x_1 + x_2 .. x_M + eps\n",
    "    # X's scaled so the variance of explained part is same order as noise variance (if std(eps) = 1)\n",
    "    sigNoise = np.sqrt(1./M)\n",
    "    X = np.random.normal(size=(N,M),loc=0,scale=sigNoise)\n",
    "    eps = np.random.normal(size=N,loc=0,scale=noise)\n",
    "    y = np.sum(X,axis=1)+eps\n",
    "    return X,y"
   ]
  },
  {
   "cell_type": "markdown",
   "metadata": {},
   "source": [
    "* Model equation:\n",
    "* $y = \\sum_{i=1}^M x_i + \\epsilon_i$\n",
    "* $E(y)=E(x_i) = E(\\epsilon)=0$\n",
    "* $\\hat y =  \\sum_{i=1}^M x_i$\n",
    "* $\\text{Var}({x_i}) = (1/M)$\n",
    "* $\\text{Var}({\\sum x_i}) = 1 = \\text{Var} (\\hat y)$\n",
    "* Equals $\\epsilon$ or noise variance, if noise = 1\n",
    "* Variance of y = $\\text{Var}(\\hat y) + \\text{Var}(\\epsilon)$\n",
    "* Variance of y = 1 + 1 = 2\n",
    "* R-squared = $1-\\frac{(N-1)*\\text{Var}(\\epsilon)}{(N-1)\\text{Var}(y)}=( 1 - \\frac{1}{2}) = 0.5$"
   ]
  },
  {
   "cell_type": "code",
   "execution_count": 78,
   "metadata": {},
   "outputs": [
    {
     "data": {
      "image/png": "[encoded data removed]",
      "text/plain": [
       "<Figure size 432x288 with 1 Axes>"
      ]
     },
     "metadata": {
      "needs_background": "light"
     },
     "output_type": "display_data"
    }
   ],
   "source": [
    "X, y = genLinData(50,1,1.0)\n",
    "lr = LinearRegression()\n",
    "lr.fit(X, y)\n",
    "xtarget = np.arange(start=-3.0,stop=3.0,step=0.05)\n",
    "xt = xtarget.reshape(len(xtarget),1)\n",
    "yhat    = lr.predict(xt)\n",
    "plt.plot(xtarget,yhat)\n",
    "plt.plot(X,y,\"*\")\n",
    "plt.plot()\n",
    "plt.grid()"
   ]
  },
  {
   "cell_type": "code",
   "execution_count": 81,
   "metadata": {},
   "outputs": [
    {
     "name": "stdout",
     "output_type": "stream",
     "text": [
      "0.5502793586352566\n",
      "0.48124160279486794\n"
     ]
    }
   ],
   "source": [
    "# Set up a system that you might have estimated once in your econometrics class\n",
    "X, y = genLinData(200,2,1.0)\n",
    "X_train, X_test, y_train, y_test = train_test_split(X,y,test_size=0.5,random_state=0)\n",
    "# Now run regression\n",
    "# print score, which is R-squared (fit)\n",
    "lr = LinearRegression()\n",
    "lr.fit(X_train, y_train)\n",
    "print(lr.score(X_train,y_train))\n",
    "print(lr.score(X_test,y_test))"
   ]
  },
  {
   "cell_type": "code",
   "execution_count": 82,
   "metadata": {},
   "outputs": [
    {
     "name": "stdout",
     "output_type": "stream",
     "text": [
      "lr.coef_: [0.65885973 1.04095232]\n",
      "lr.intercept_: 0.20399119466991084\n"
     ]
    }
   ],
   "source": [
    "print(\"lr.coef_: {}\".format(lr.coef_))\n",
    "print(\"lr.intercept_: {}\".format(lr.intercept_))"
   ]
  },
  {
   "cell_type": "markdown",
   "metadata": {},
   "source": [
    "## Now increase right hand side forecast variables (a lot)"
   ]
  },
  {
   "cell_type": "code",
   "execution_count": 88,
   "metadata": {},
   "outputs": [
    {
     "name": "stdout",
     "output_type": "stream",
     "text": [
      "0.6808236088877091\n",
      "-0.3817118156632482\n"
     ]
    }
   ],
   "source": [
    "# Set up a system you would be told never to try in your econometrics class\n",
    "X, y = genLinData(200,50,1.0)\n",
    "X_train, X_test, y_train, y_test = train_test_split(X,y,test_size=0.5,random_state=0)\n",
    "# Now run regression\n",
    "# print score, which is R-squared (fit)\n",
    "lr = LinearRegression()\n",
    "lr.fit(X_train, y_train)\n",
    "print(lr.score(X_train,y_train))\n",
    "print(lr.score(X_test,y_test))"
   ]
  },
  {
   "cell_type": "markdown",
   "metadata": {},
   "source": [
    "# Overfitting\n",
    "* This regression is clearly overfitting\n",
    "* Try many different runs of this\n",
    "* This is a form of overfitting\n",
    "* **Note:**  The model is technically the correct model"
   ]
  },
  {
   "cell_type": "markdown",
   "metadata": {},
   "source": [
    "## A quick monte-carlo example\n",
    "* Note: you can do this many times\n",
    "* This is known as a monte-carlo\n",
    "* See code below\n",
    "* There is a big for loop \n",
    "* Statistics for each run are stored in numpy vector (scoreVec)"
   ]
  },
  {
   "cell_type": "code",
   "execution_count": 95,
   "metadata": {},
   "outputs": [
    {
     "name": "stdout",
     "output_type": "stream",
     "text": [
      "-0.056589423932722996\n",
      "0.24394819320781433\n",
      "0.528\n"
     ]
    }
   ],
   "source": [
    "nmc = 500\n",
    "scoreVec = np.zeros(nmc)\n",
    "for i in range(nmc):\n",
    "    X, y = genLinData(200,50,1.0)\n",
    "    X_train, X_test, y_train, y_test = train_test_split(X,y,test_size=0.5)\n",
    "    # Now run regression\n",
    "    # print score, which is R-squared (fit)\n",
    "    lr = LinearRegression()\n",
    "    lr.fit(X_train, y_train)\n",
    "    scoreVec[i] = lr.score(X_test,y_test)\n",
    "print(np.mean(scoreVec))\n",
    "print(np.std(scoreVec))\n",
    "print(np.mean(scoreVec<0))"
   ]
  },
  {
   "cell_type": "code",
   "execution_count": 90,
   "metadata": {},
   "outputs": [],
   "source": [
    "# A function to automate MC experiments\n",
    "def MCtraintest(nmc,X,y,modelObj,testFrac):\n",
    "    trainScore = np.zeros(nmc)\n",
    "    testScore  = np.zeros(nmc)\n",
    "    for i in range(nmc):\n",
    "        X_train, X_test, y_train, y_test = train_test_split(X,y,test_size=testFrac)\n",
    "        modelObj.fit(X_train,y_train)\n",
    "        trainScore[i] = modelObj.score(X_train,y_train)\n",
    "        testScore[i]  = modelObj.score(X_test,y_test)\n",
    "    return trainScore,testScore"
   ]
  },
  {
   "cell_type": "code",
   "execution_count": 96,
   "metadata": {},
   "outputs": [
    {
     "name": "stdout",
     "output_type": "stream",
     "text": [
      "0.7202938723384411\n",
      "0.045496948831382736\n",
      "-0.20024775954112023\n",
      "0.23152654625274632\n"
     ]
    }
   ],
   "source": [
    "X, y = genLinData(200,50,1.0)\n",
    "lr = LinearRegression()\n",
    "trainS, testS = MCtraintest(500,X,y,lr,0.5)\n",
    "print(np.mean(trainS))\n",
    "print(np.std(trainS))\n",
    "print(np.mean(testS))\n",
    "print(np.std(testS))"
   ]
  },
  {
   "cell_type": "markdown",
   "metadata": {},
   "source": [
    "### Increase sample size\n",
    "* The ultimate solution for overfitting"
   ]
  },
  {
   "cell_type": "code",
   "execution_count": 97,
   "metadata": {},
   "outputs": [
    {
     "name": "stdout",
     "output_type": "stream",
     "text": [
      "0.49162580006682516\n",
      "0.5034100487612816\n"
     ]
    }
   ],
   "source": [
    "# Set up a system you would be told never to try in your econometrics class\n",
    "X, y = genLinData(20000,50,1.0)\n",
    "X_train, X_test, y_train, y_test = train_test_split(X,y,test_size=0.5,random_state=0)\n",
    "# Now run regression\n",
    "# print score, which is R-squared (fit)\n",
    "lr = LinearRegression()\n",
    "lr.fit(X_train, y_train)\n",
    "print(lr.score(X_train,y_train))\n",
    "print(lr.score(X_test,y_test))"
   ]
  },
  {
   "cell_type": "markdown",
   "metadata": {},
   "source": [
    "## Complex functions\n",
    "* Add polynomial features where there are none\n",
    "* Scikit Learn polynomial features function\n",
    "* $y=b_0 + b_1 x + b_2 x^2 + b_3 x^3 + \\ldots $\n"
   ]
  },
  {
   "cell_type": "code",
   "execution_count": 103,
   "metadata": {},
   "outputs": [
    {
     "data": {
      "image/png": "[encoded data removed]",
      "text/plain": [
       "<Figure size 432x288 with 1 Axes>"
      ]
     },
     "metadata": {
      "needs_background": "light"
     },
     "output_type": "display_data"
    }
   ],
   "source": [
    "from sklearn.preprocessing import PolynomialFeatures\n",
    "X, y = genLinData(25,1,1.0)\n",
    "poly = PolynomialFeatures(degree=7)\n",
    "Xpoly = poly.fit_transform(X)\n",
    "lr.fit(Xpoly,y)\n",
    "xt = np.arange(start=-1.5,stop=1.5,step=0.05)\n",
    "xtarget = xt.reshape(len(xt),1)\n",
    "xtargetPoly = poly.fit_transform(xtarget)\n",
    "yhat = lr.predict(xtargetPoly)\n",
    "plt.plot(xtarget,yhat)\n",
    "plt.plot(X,y,'o')\n",
    "plt.grid()\n",
    "# print(Xpoly)"
   ]
  },
  {
   "cell_type": "code",
   "execution_count": 109,
   "metadata": {},
   "outputs": [
    {
     "name": "stdout",
     "output_type": "stream",
     "text": [
      "0.7805925109719885\n",
      "-0.1673685914808758\n"
     ]
    }
   ],
   "source": [
    "X, y = genLinData(50,1,1.0)\n",
    "X_train, X_test, y_train, y_test = train_test_split(X,y,test_size=0.5,random_state=0)\n",
    "poly = PolynomialFeatures(degree=7)\n",
    "Xpoly_train = poly.fit_transform(X_train)\n",
    "Xpoly_test  = poly.fit_transform(X_test)\n",
    "lr.fit(Xpoly_train,y_train)\n",
    "print(lr.score(Xpoly_train,y_train))\n",
    "print(lr.score(Xpoly_test,y_test))"
   ]
  },
  {
   "cell_type": "markdown",
   "metadata": {},
   "source": [
    "# Ridge and Lasso ----"
   ]
  },
  {
   "cell_type": "markdown",
   "metadata": {},
   "source": [
    "# Try Ridge and Lasso\n",
    "* Control overfitting\n",
    "* Parameter alpha now added\n",
    "* Note: In this experiment no coefficients are zero"
   ]
  },
  {
   "cell_type": "code",
   "execution_count": 118,
   "metadata": {},
   "outputs": [
    {
     "name": "stdout",
     "output_type": "stream",
     "text": [
      "0.6302158420742051\n",
      "0.36242841138017595\n"
     ]
    }
   ],
   "source": [
    "X, y = genLinData(200,50,1.0)\n",
    "X_train, X_test, y_train, y_test = train_test_split(X,y,test_size=0.5,random_state=0)\n",
    "# Now run regression\n",
    "# print score, which is R-squared (fit)\n",
    "ridge = Ridge(alpha=1.0)\n",
    "ridge.fit(X_train, y_train)\n",
    "print(ridge.score(X_train,y_train))\n",
    "print(ridge.score(X_test,y_test))"
   ]
  },
  {
   "cell_type": "code",
   "execution_count": 124,
   "metadata": {},
   "outputs": [
    {
     "name": "stdout",
     "output_type": "stream",
     "text": [
      "0.6123416473659897\n",
      "0.14803452726945876\n"
     ]
    }
   ],
   "source": [
    "X, y = genLinData(200,50,1.0)\n",
    "X_train, X_test, y_train, y_test = train_test_split(X,y,test_size=0.5,random_state=0)\n",
    "# Now run regression\n",
    "# print score, which is R-squared (fit)\n",
    "lasso = Lasso(alpha=0.005)\n",
    "lasso.fit(X_train, y_train)\n",
    "print(lasso.score(X_train,y_train))\n",
    "print(lasso.score(X_test,y_test))"
   ]
  },
  {
   "cell_type": "markdown",
   "metadata": {},
   "source": [
    "# A more complicated model\n",
    "* Set some of the parameters to zero\n",
    "* This may give even more overfitting\n",
    "* Can also see how well Lasso gets zeros\n",
    "* Finding irrelevant information"
   ]
  },
  {
   "cell_type": "code",
   "execution_count": 125,
   "metadata": {},
   "outputs": [],
   "source": [
    "# Function to generate linear data experiments\n",
    "# Now drop some coefficients to zero (sparse)\n",
    "def genLinData(N,M,noise):\n",
    "    # y = x_1 + x_2 .. x_M + eps\n",
    "    # X's scaled so the variance of explained part is same order as noise variance (if eps = 1)\n",
    "    sigNoise = np.sqrt(1./M)\n",
    "    # set up random beta for regression\n",
    "    beta = np.random.normal(size=(M,1),loc=0.,scale=1.)\n",
    "    # force smaller beta to zero\n",
    "    beta[abs(beta)<1.0] = 0.\n",
    "    betaUsed= np.sum( beta != 0.)\n",
    "    X = np.random.normal(size=(N,M),loc=0,scale=sigNoise)\n",
    "    eps = np.random.normal(size=(N,1),loc=0,scale=noise)\n",
    "    # Modern Python with matrix multiplication\n",
    "    y = X @ beta + eps\n",
    "    # Find theoretical best R-squared \n",
    "    sse = np.sum(eps**2)\n",
    "    meany = np.mean(y)\n",
    "    sse2 = np.sum( (y-meany)**2)\n",
    "    trsquared = 1. - sse/sse2\n",
    "    # Old style Python\n",
    "    # X = np.random.normal(size=(N,M),loc=0,scale=sigNoise)\n",
    "    # eps = np.random.normal(size=N,loc=0,scale=noise)\n",
    "    # y = np.sum(X,axis=1)+eps\n",
    "    return X,y,betaUsed,trsquared"
   ]
  },
  {
   "cell_type": "markdown",
   "metadata": {},
   "source": [
    "### Ordinary least squares"
   ]
  },
  {
   "cell_type": "code",
   "execution_count": 126,
   "metadata": {},
   "outputs": [
    {
     "name": "stdout",
     "output_type": "stream",
     "text": [
      "0.5117550042422836\n",
      "0.7826269595268323\n",
      "-0.16165976103625934\n",
      "14\n",
      "[[-3.01349293e-01 -2.24407278e+00  1.08698110e+00  1.46428484e-03\n",
      "   2.87625839e+00  1.01710345e+00  2.20324905e+00  1.93426693e-02\n",
      "  -2.47174845e+00  1.80599035e+00 -1.01607937e+00  2.62370519e-01\n",
      "  -1.46628553e-01 -5.50893014e-01  6.47500993e-01  5.35537043e-01\n",
      "  -1.05539383e+00 -2.21919140e+00 -1.19570779e+00  2.63931634e-01\n",
      "  -1.39609171e+00 -7.87601320e-01  1.73235330e+00 -3.05716209e-01\n",
      "   2.57899634e+00 -1.75295654e+00 -1.25673208e+00  4.78563030e+00\n",
      "   2.72394387e-01  3.38025119e+00 -3.05864709e-01  5.73019941e-01\n",
      "   2.69869766e+00 -5.62412983e-02  4.08253268e-01  7.56803664e-01\n",
      "  -4.29597307e-01 -1.41353778e-01 -9.75920418e-02  4.42433066e-01\n",
      "   2.84937940e+00 -1.18479336e+00  1.16220071e+00 -2.51570364e+00\n",
      "   1.33525786e+00  4.99660819e-02  5.24928225e-01 -1.10198121e+00\n",
      "  -6.94365790e-01 -6.93403782e-01]]\n",
      "1.1638270827612027\n",
      "50\n"
     ]
    }
   ],
   "source": [
    "X, y, nvar, trs = genLinData(200,50,1.0)\n",
    "X_train, X_test, y_train, y_test = train_test_split(X,y,test_size=0.5,random_state=0)\n",
    "# Now run regression\n",
    "# print score, which is R-squared (fit)\n",
    "lr = LinearRegression()\n",
    "lr.fit(X_train, y_train)\n",
    "print(trs)\n",
    "print(lr.score(X_train,y_train))\n",
    "print(lr.score(X_test,y_test))\n",
    "print(nvar)\n",
    "print(lr.coef_)\n",
    "print(np.mean(np.abs(lr.coef_)))\n",
    "print(np.sum(lr.coef_!=0))"
   ]
  },
  {
   "cell_type": "markdown",
   "metadata": {},
   "source": [
    "### Now quick monte-carlo"
   ]
  },
  {
   "cell_type": "code",
   "execution_count": 127,
   "metadata": {},
   "outputs": [
    {
     "name": "stdout",
     "output_type": "stream",
     "text": [
      "0.4340192181881749\n",
      "0.6636461706272556\n",
      "0.018934703600057015\n",
      "0.418\n"
     ]
    }
   ],
   "source": [
    "nmc = 1000\n",
    "scoreVec = np.zeros(nmc)\n",
    "scoreVecInSamp = np.zeros(nmc)\n",
    "trsVec = np.zeros(nmc)\n",
    "for i in range(nmc):\n",
    "    X, y, nvar, trs = genLinData(250,50,1.0)\n",
    "    trsVec[i] = trs\n",
    "    X_train, X_test, y_train, y_test = train_test_split(X,y,test_size=0.5)\n",
    "    # Now run regression\n",
    "    # print score, which is R-squared (fit)\n",
    "    lr = LinearRegression()\n",
    "    lr.fit(X_train, y_train)\n",
    "    scoreVecInSamp[i] = lr.score(X_train,y_train)\n",
    "    scoreVec[i] = lr.score(X_test,y_test)\n",
    "print(np.mean(trsVec))\n",
    "print(np.mean(scoreVecInSamp))\n",
    "print(np.mean(scoreVec))\n",
    "print(np.mean(scoreVec<0))\n"
   ]
  },
  {
   "cell_type": "markdown",
   "metadata": {},
   "source": [
    "### Ridge regression"
   ]
  },
  {
   "cell_type": "code",
   "execution_count": 128,
   "metadata": {},
   "outputs": [
    {
     "name": "stdout",
     "output_type": "stream",
     "text": [
      "0.45511969847796774\n",
      "0.6520702419421494\n",
      "0.23350977505183235\n",
      "17\n",
      "[[ 0.17015394 -0.82761649 -0.43109037 -1.27384248  0.18373044 -0.35431999\n",
      "   0.53168231 -0.62791659 -0.24759256  0.06836831 -0.3603374   0.53737374\n",
      "  -1.00913689 -1.09974103 -0.77369359 -0.10776131  0.34284253  0.60080409\n",
      "  -0.1925334   1.05161455 -0.20636497 -0.27880304  0.67068373 -1.12649931\n",
      "   0.34244029 -0.04538607 -0.17787471  0.76285855 -0.92361021 -0.43184387\n",
      "   0.91894013 -0.4637596  -0.21972635 -0.09797793 -1.89686149 -0.77245623\n",
      "   0.63906827 -0.1830806  -0.08281724 -0.6997603  -0.04730691 -0.76279963\n",
      "  -0.32514477 -0.01941144  0.21394583 -0.39007657 -0.22534093  0.30567489\n",
      "  -1.02888189  0.57455554]]\n",
      "0.5125220664265492\n",
      "50\n"
     ]
    }
   ],
   "source": [
    "X, y, nvar, trs = genLinData(200,50,1.0)\n",
    "X_train, X_test, y_train, y_test = train_test_split(X,y,test_size=0.5,random_state=0)\n",
    "# Now run regression\n",
    "# print score, which is R-squared (fit)\n",
    "ridge = Ridge(alpha=1.0)\n",
    "ridge.fit(X_train, y_train)\n",
    "print(trs)\n",
    "print(ridge.score(X_train,y_train))\n",
    "print(ridge.score(X_test,y_test))\n",
    "print(nvar)\n",
    "print(ridge.coef_)\n",
    "print(np.mean(np.abs(ridge.coef_)))\n",
    "print(np.sum(ridge.coef_!=0))"
   ]
  },
  {
   "cell_type": "markdown",
   "metadata": {},
   "source": [
    "### Monte-carlo for Ridge"
   ]
  },
  {
   "cell_type": "code",
   "execution_count": 129,
   "metadata": {},
   "outputs": [
    {
     "name": "stdout",
     "output_type": "stream",
     "text": [
      "0.434418527980755\n",
      "0.5928849706368247\n",
      "0.24313523265525117\n",
      "0.016\n"
     ]
    }
   ],
   "source": [
    "nmc = 1000\n",
    "scoreVec = np.zeros(nmc)\n",
    "scoreVecInSamp = np.zeros(nmc)\n",
    "trsVec = np.zeros(nmc)\n",
    "for i in range(nmc):\n",
    "    X, y, nvar, trs = genLinData(250,50,1.0)\n",
    "    trsVec[i] = trs\n",
    "    X_train, X_test, y_train, y_test = train_test_split(X,y,test_size=0.5)\n",
    "    # Now run regression\n",
    "    # print score, which is R-squared (fit)\n",
    "    ridge = Ridge(alpha=1.0)\n",
    "    ridge.fit(X_train, y_train)\n",
    "    scoreVecInSamp[i] = ridge.score(X_train,y_train)\n",
    "    scoreVec[i] = ridge.score(X_test,y_test)\n",
    "print(np.mean(trsVec))\n",
    "print(np.mean(scoreVecInSamp))\n",
    "print(np.mean(scoreVec))\n",
    "print(np.mean(scoreVec<0))\n"
   ]
  },
  {
   "cell_type": "markdown",
   "metadata": {},
   "source": [
    "### Lasso regression"
   ]
  },
  {
   "cell_type": "code",
   "execution_count": 131,
   "metadata": {},
   "outputs": [
    {
     "name": "stdout",
     "output_type": "stream",
     "text": [
      "0.4766985589834687\n",
      "0.6484865026499906\n",
      "0.18354432888358663\n",
      "13\n",
      "[-0.         -0.          0.05123075 -0.         -0.         -1.46181678\n",
      " -2.57005686 -0.54462588 -0.          2.76106956  2.77417913  0.46841493\n",
      " -0.          0.01899875 -1.02461637  0.          0.         -0.\n",
      "  0.          0.         -0.73777972  0.38628045  0.          0.82074723\n",
      "  1.82314029 -0.          0.38131716  0.6135143  -1.47525448  1.62806354\n",
      "  0.          0.12463412  0.47836877  1.12144804  0.88043718 -0.12937665\n",
      "  0.          0.83523062 -0.          0.58991758 -0.          0.\n",
      " -0.          0.8581768   1.11052159 -0.         -0.63284531  0.\n",
      " -0.          0.        ]\n",
      "0.5260412564939729\n",
      "27\n"
     ]
    }
   ],
   "source": [
    "X, y, nvar, trs = genLinData(200,50,1.0)\n",
    "X_train, X_test, y_train, y_test = train_test_split(X,y,test_size=0.5,random_state=0)\n",
    "# Now run regression\n",
    "# print score, which is R-squared (fit)\n",
    "lasso = Lasso(alpha=0.005)\n",
    "lasso.fit(X_train, y_train)\n",
    "print(trs)\n",
    "print(lasso.score(X_train,y_train))\n",
    "print(lasso.score(X_test,y_test))\n",
    "print(nvar)\n",
    "print(lasso.coef_)\n",
    "print(np.mean(np.abs(lasso.coef_)))\n",
    "print(np.sum(lasso.coef_!=0))"
   ]
  },
  {
   "cell_type": "markdown",
   "metadata": {},
   "source": [
    "### Monte-carlo for Lasso"
   ]
  },
  {
   "cell_type": "code",
   "execution_count": 132,
   "metadata": {},
   "outputs": [
    {
     "name": "stdout",
     "output_type": "stream",
     "text": [
      "0.43425022630415866\n",
      "0.6176815929346151\n",
      "0.2292835237575616\n",
      "0.045\n"
     ]
    }
   ],
   "source": [
    "nmc = 1000\n",
    "scoreVec = np.zeros(nmc)\n",
    "scoreVecInSamp = np.zeros(nmc)\n",
    "trsVec = np.zeros(nmc)\n",
    "for i in range(nmc):\n",
    "    X, y, nvar, trs = genLinData(250,50,1.0)\n",
    "    trsVec[i] = trs\n",
    "    X_train, X_test, y_train, y_test = train_test_split(X,y,test_size=0.5)\n",
    "    # Now run regression\n",
    "    # print score, which is R-squared (fit)\n",
    "    lasso = Lasso(alpha=0.005)\n",
    "    lasso.fit(X_train, y_train)\n",
    "    scoreVecInSamp[i] = lasso.score(X_train,y_train)\n",
    "    scoreVec[i] = lasso.score(X_test,y_test)\n",
    "print(np.mean(trsVec))\n",
    "print(np.mean(scoreVecInSamp))\n",
    "print(np.mean(scoreVec))\n",
    "print(np.mean(scoreVec<0))"
   ]
  },
  {
   "cell_type": "code",
   "execution_count": null,
   "metadata": {},
   "outputs": [],
   "source": []
  }
 ],
 "metadata": {
  "kernelspec": {
   "display_name": "Python 3",
   "language": "python",
   "name": "python3"
  },
  "language_info": {
   "codemirror_mode": {
    "name": "ipython",
    "version": 3
   },
   "file_extension": ".py",
   "mimetype": "text/x-python",
   "name": "python",
   "nbconvert_exporter": "python",
   "pygments_lexer": "ipython3",
   "version": "3.7.6"
  }
 },
 "nbformat": 4,
 "nbformat_minor": 2
}
